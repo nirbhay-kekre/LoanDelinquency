{
 "cells": [
  {
   "cell_type": "code",
   "execution_count": 1,
   "metadata": {},
   "outputs": [
    {
     "name": "stderr",
     "output_type": "stream",
     "text": [
      "/Users/yashmahajan/anaconda3/lib/python3.7/site-packages/lightgbm/__init__.py:46: UserWarning: Starting from version 2.2.1, the library file in distribution wheels for macOS is built by the Apple Clang (Xcode_8.3.1) compiler.\n",
      "This means that in case of installing LightGBM from PyPI via the ``pip install lightgbm`` command, you don't need to install the gcc compiler anymore.\n",
      "Instead of that, you need to install the OpenMP library, which is required for running LightGBM on the system with the Apple Clang compiler.\n",
      "You can install the OpenMP library by the following command: ``brew install libomp``.\n",
      "  \"You can install the OpenMP library by the following command: ``brew install libomp``.\", UserWarning)\n"
     ]
    }
   ],
   "source": [
    "from sklearn.model_selection import KFold\n",
    "from sklearn.metrics import roc_auc_score, auc, log_loss, roc_curve\n",
    "import pandas as pd\n",
    "import matplotlib.pyplot as plt\n",
    "import lightgbm as lgb\n",
    "import matplotlib.ticker as ticker\n",
    "import warnings\n",
    "warnings.filterwarnings(\"ignore\")"
   ]
  },
  {
   "cell_type": "code",
   "execution_count": 2,
   "metadata": {},
   "outputs": [],
   "source": [
    "preproccessed_train_df = pd.read_csv(r'./preprocessedData/train-preprocessed.csv')\n",
    "preproccessed_test_df = pd.read_csv(r'./preprocessedData/test-preprocessed.csv')"
   ]
  },
  {
   "cell_type": "code",
   "execution_count": 3,
   "metadata": {},
   "outputs": [
    {
     "data": {
      "text/plain": [
       "(276759, 212)"
      ]
     },
     "execution_count": 3,
     "metadata": {},
     "output_type": "execute_result"
    }
   ],
   "source": [
    "preproccessed_train_df.shape"
   ]
  },
  {
   "cell_type": "code",
   "execution_count": 4,
   "metadata": {},
   "outputs": [
    {
     "data": {
      "text/plain": [
       "(30752, 212)"
      ]
     },
     "execution_count": 4,
     "metadata": {},
     "output_type": "execute_result"
    }
   ],
   "source": [
    "preproccessed_test_df.shape"
   ]
  },
  {
   "cell_type": "code",
   "execution_count": 5,
   "metadata": {},
   "outputs": [
    {
     "data": {
      "text/html": [
       "<div>\n",
       "<style scoped>\n",
       "    .dataframe tbody tr th:only-of-type {\n",
       "        vertical-align: middle;\n",
       "    }\n",
       "\n",
       "    .dataframe tbody tr th {\n",
       "        vertical-align: top;\n",
       "    }\n",
       "\n",
       "    .dataframe thead th {\n",
       "        text-align: right;\n",
       "    }\n",
       "</style>\n",
       "<table border=\"1\" class=\"dataframe\">\n",
       "  <thead>\n",
       "    <tr style=\"text-align: right;\">\n",
       "      <th></th>\n",
       "      <th>Unnamed: 0</th>\n",
       "      <th>SK_ID_CURR</th>\n",
       "      <th>AMT_INCOME_TOTAL</th>\n",
       "      <th>AMT_CREDIT</th>\n",
       "      <th>AMT_ANNUITY</th>\n",
       "      <th>AMT_GOODS_PRICE</th>\n",
       "      <th>REGION_POPULATION_RELATIVE</th>\n",
       "      <th>DAYS_REGISTRATION</th>\n",
       "      <th>OWN_CAR_AGE</th>\n",
       "      <th>CNT_FAM_MEMBERS</th>\n",
       "      <th>...</th>\n",
       "      <th>pca-2</th>\n",
       "      <th>pca-3</th>\n",
       "      <th>pca-4</th>\n",
       "      <th>pca-5</th>\n",
       "      <th>pca-6</th>\n",
       "      <th>pca-7</th>\n",
       "      <th>pca-8</th>\n",
       "      <th>pca-9</th>\n",
       "      <th>pca-10</th>\n",
       "      <th>TARGET</th>\n",
       "    </tr>\n",
       "  </thead>\n",
       "  <tbody>\n",
       "    <tr>\n",
       "      <th>0</th>\n",
       "      <td>197245</td>\n",
       "      <td>328695</td>\n",
       "      <td>0.001243</td>\n",
       "      <td>0.082876</td>\n",
       "      <td>0.073938</td>\n",
       "      <td>0.057239</td>\n",
       "      <td>0.079177</td>\n",
       "      <td>0.825957</td>\n",
       "      <td>0.197802</td>\n",
       "      <td>0.000000</td>\n",
       "      <td>...</td>\n",
       "      <td>-0.180707</td>\n",
       "      <td>0.191229</td>\n",
       "      <td>0.270126</td>\n",
       "      <td>0.050621</td>\n",
       "      <td>-0.149566</td>\n",
       "      <td>0.217995</td>\n",
       "      <td>0.094645</td>\n",
       "      <td>-0.020663</td>\n",
       "      <td>0.072244</td>\n",
       "      <td>0</td>\n",
       "    </tr>\n",
       "    <tr>\n",
       "      <th>1</th>\n",
       "      <td>180379</td>\n",
       "      <td>309048</td>\n",
       "      <td>0.001320</td>\n",
       "      <td>0.021348</td>\n",
       "      <td>0.049017</td>\n",
       "      <td>0.022447</td>\n",
       "      <td>0.226010</td>\n",
       "      <td>0.584549</td>\n",
       "      <td>0.087912</td>\n",
       "      <td>0.105263</td>\n",
       "      <td>...</td>\n",
       "      <td>-0.250685</td>\n",
       "      <td>-0.051708</td>\n",
       "      <td>-0.025450</td>\n",
       "      <td>-0.077051</td>\n",
       "      <td>-0.020953</td>\n",
       "      <td>0.074114</td>\n",
       "      <td>-0.025650</td>\n",
       "      <td>0.013826</td>\n",
       "      <td>0.044659</td>\n",
       "      <td>0</td>\n",
       "    </tr>\n",
       "    <tr>\n",
       "      <th>2</th>\n",
       "      <td>42671</td>\n",
       "      <td>149398</td>\n",
       "      <td>0.001158</td>\n",
       "      <td>0.124719</td>\n",
       "      <td>0.062197</td>\n",
       "      <td>0.125701</td>\n",
       "      <td>0.276330</td>\n",
       "      <td>0.765078</td>\n",
       "      <td>0.098901</td>\n",
       "      <td>0.000000</td>\n",
       "      <td>...</td>\n",
       "      <td>-0.092176</td>\n",
       "      <td>0.003207</td>\n",
       "      <td>-0.064521</td>\n",
       "      <td>0.014502</td>\n",
       "      <td>-0.044643</td>\n",
       "      <td>-0.036465</td>\n",
       "      <td>-0.017203</td>\n",
       "      <td>0.011350</td>\n",
       "      <td>0.015536</td>\n",
       "      <td>0</td>\n",
       "    </tr>\n",
       "    <tr>\n",
       "      <th>3</th>\n",
       "      <td>128201</td>\n",
       "      <td>248704</td>\n",
       "      <td>0.001050</td>\n",
       "      <td>0.207029</td>\n",
       "      <td>0.184574</td>\n",
       "      <td>0.191919</td>\n",
       "      <td>0.245631</td>\n",
       "      <td>0.972357</td>\n",
       "      <td>0.098901</td>\n",
       "      <td>0.105263</td>\n",
       "      <td>...</td>\n",
       "      <td>0.132030</td>\n",
       "      <td>-0.135607</td>\n",
       "      <td>-0.122080</td>\n",
       "      <td>0.030635</td>\n",
       "      <td>-0.033998</td>\n",
       "      <td>-0.051394</td>\n",
       "      <td>-0.023131</td>\n",
       "      <td>0.018059</td>\n",
       "      <td>0.052966</td>\n",
       "      <td>0</td>\n",
       "    </tr>\n",
       "    <tr>\n",
       "      <th>4</th>\n",
       "      <td>268208</td>\n",
       "      <td>410783</td>\n",
       "      <td>0.001127</td>\n",
       "      <td>0.101124</td>\n",
       "      <td>0.132362</td>\n",
       "      <td>0.102132</td>\n",
       "      <td>0.491595</td>\n",
       "      <td>0.803948</td>\n",
       "      <td>0.098901</td>\n",
       "      <td>0.157895</td>\n",
       "      <td>...</td>\n",
       "      <td>-0.156779</td>\n",
       "      <td>-0.484716</td>\n",
       "      <td>-0.113124</td>\n",
       "      <td>0.003474</td>\n",
       "      <td>0.092111</td>\n",
       "      <td>-0.001448</td>\n",
       "      <td>-0.112061</td>\n",
       "      <td>0.012328</td>\n",
       "      <td>0.003772</td>\n",
       "      <td>0</td>\n",
       "    </tr>\n",
       "  </tbody>\n",
       "</table>\n",
       "<p>5 rows × 212 columns</p>\n",
       "</div>"
      ],
      "text/plain": [
       "   Unnamed: 0  SK_ID_CURR  AMT_INCOME_TOTAL  AMT_CREDIT  AMT_ANNUITY  \\\n",
       "0      197245      328695          0.001243    0.082876     0.073938   \n",
       "1      180379      309048          0.001320    0.021348     0.049017   \n",
       "2       42671      149398          0.001158    0.124719     0.062197   \n",
       "3      128201      248704          0.001050    0.207029     0.184574   \n",
       "4      268208      410783          0.001127    0.101124     0.132362   \n",
       "\n",
       "   AMT_GOODS_PRICE  REGION_POPULATION_RELATIVE  DAYS_REGISTRATION  \\\n",
       "0         0.057239                    0.079177           0.825957   \n",
       "1         0.022447                    0.226010           0.584549   \n",
       "2         0.125701                    0.276330           0.765078   \n",
       "3         0.191919                    0.245631           0.972357   \n",
       "4         0.102132                    0.491595           0.803948   \n",
       "\n",
       "   OWN_CAR_AGE  CNT_FAM_MEMBERS   ...       pca-2     pca-3     pca-4  \\\n",
       "0     0.197802         0.000000   ...   -0.180707  0.191229  0.270126   \n",
       "1     0.087912         0.105263   ...   -0.250685 -0.051708 -0.025450   \n",
       "2     0.098901         0.000000   ...   -0.092176  0.003207 -0.064521   \n",
       "3     0.098901         0.105263   ...    0.132030 -0.135607 -0.122080   \n",
       "4     0.098901         0.157895   ...   -0.156779 -0.484716 -0.113124   \n",
       "\n",
       "      pca-5     pca-6     pca-7     pca-8     pca-9    pca-10  TARGET  \n",
       "0  0.050621 -0.149566  0.217995  0.094645 -0.020663  0.072244       0  \n",
       "1 -0.077051 -0.020953  0.074114 -0.025650  0.013826  0.044659       0  \n",
       "2  0.014502 -0.044643 -0.036465 -0.017203  0.011350  0.015536       0  \n",
       "3  0.030635 -0.033998 -0.051394 -0.023131  0.018059  0.052966       0  \n",
       "4  0.003474  0.092111 -0.001448 -0.112061  0.012328  0.003772       0  \n",
       "\n",
       "[5 rows x 212 columns]"
      ]
     },
     "execution_count": 5,
     "metadata": {},
     "output_type": "execute_result"
    }
   ],
   "source": [
    "preproccessed_train_df.head()"
   ]
  },
  {
   "cell_type": "code",
   "execution_count": 6,
   "metadata": {},
   "outputs": [
    {
     "data": {
      "text/html": [
       "<div>\n",
       "<style scoped>\n",
       "    .dataframe tbody tr th:only-of-type {\n",
       "        vertical-align: middle;\n",
       "    }\n",
       "\n",
       "    .dataframe tbody tr th {\n",
       "        vertical-align: top;\n",
       "    }\n",
       "\n",
       "    .dataframe thead th {\n",
       "        text-align: right;\n",
       "    }\n",
       "</style>\n",
       "<table border=\"1\" class=\"dataframe\">\n",
       "  <thead>\n",
       "    <tr style=\"text-align: right;\">\n",
       "      <th></th>\n",
       "      <th>Unnamed: 0</th>\n",
       "      <th>SK_ID_CURR</th>\n",
       "      <th>AMT_INCOME_TOTAL</th>\n",
       "      <th>AMT_CREDIT</th>\n",
       "      <th>AMT_ANNUITY</th>\n",
       "      <th>AMT_GOODS_PRICE</th>\n",
       "      <th>REGION_POPULATION_RELATIVE</th>\n",
       "      <th>DAYS_REGISTRATION</th>\n",
       "      <th>OWN_CAR_AGE</th>\n",
       "      <th>CNT_FAM_MEMBERS</th>\n",
       "      <th>...</th>\n",
       "      <th>pca-2</th>\n",
       "      <th>pca-3</th>\n",
       "      <th>pca-4</th>\n",
       "      <th>pca-5</th>\n",
       "      <th>pca-6</th>\n",
       "      <th>pca-7</th>\n",
       "      <th>pca-8</th>\n",
       "      <th>pca-9</th>\n",
       "      <th>pca-10</th>\n",
       "      <th>TARGET</th>\n",
       "    </tr>\n",
       "  </thead>\n",
       "  <tbody>\n",
       "    <tr>\n",
       "      <th>0</th>\n",
       "      <td>103812</td>\n",
       "      <td>220485</td>\n",
       "      <td>0.000742</td>\n",
       "      <td>0.046067</td>\n",
       "      <td>0.039663</td>\n",
       "      <td>0.047138</td>\n",
       "      <td>0.197042</td>\n",
       "      <td>0.945687</td>\n",
       "      <td>0.098901</td>\n",
       "      <td>0.000000</td>\n",
       "      <td>...</td>\n",
       "      <td>0.107450</td>\n",
       "      <td>-0.099475</td>\n",
       "      <td>-0.146964</td>\n",
       "      <td>0.188104</td>\n",
       "      <td>0.035622</td>\n",
       "      <td>-0.052144</td>\n",
       "      <td>-0.085002</td>\n",
       "      <td>-0.039655</td>\n",
       "      <td>-0.094613</td>\n",
       "      <td>0</td>\n",
       "    </tr>\n",
       "    <tr>\n",
       "      <th>1</th>\n",
       "      <td>33350</td>\n",
       "      <td>138637</td>\n",
       "      <td>0.000473</td>\n",
       "      <td>0.197348</td>\n",
       "      <td>0.137206</td>\n",
       "      <td>0.158249</td>\n",
       "      <td>0.276330</td>\n",
       "      <td>0.944147</td>\n",
       "      <td>0.714286</td>\n",
       "      <td>0.052632</td>\n",
       "      <td>...</td>\n",
       "      <td>-0.227368</td>\n",
       "      <td>-0.033126</td>\n",
       "      <td>-0.154565</td>\n",
       "      <td>-0.073216</td>\n",
       "      <td>-0.097993</td>\n",
       "      <td>0.058892</td>\n",
       "      <td>-0.016059</td>\n",
       "      <td>0.013575</td>\n",
       "      <td>0.026204</td>\n",
       "      <td>0</td>\n",
       "    </tr>\n",
       "    <tr>\n",
       "      <th>2</th>\n",
       "      <td>118785</td>\n",
       "      <td>237745</td>\n",
       "      <td>0.000550</td>\n",
       "      <td>0.089888</td>\n",
       "      <td>0.072675</td>\n",
       "      <td>0.090909</td>\n",
       "      <td>0.260475</td>\n",
       "      <td>0.818337</td>\n",
       "      <td>0.032967</td>\n",
       "      <td>0.105263</td>\n",
       "      <td>...</td>\n",
       "      <td>0.022146</td>\n",
       "      <td>0.511970</td>\n",
       "      <td>0.058970</td>\n",
       "      <td>0.710577</td>\n",
       "      <td>-0.137946</td>\n",
       "      <td>0.446751</td>\n",
       "      <td>0.154910</td>\n",
       "      <td>0.201776</td>\n",
       "      <td>0.561764</td>\n",
       "      <td>0</td>\n",
       "    </tr>\n",
       "    <tr>\n",
       "      <th>3</th>\n",
       "      <td>178204</td>\n",
       "      <td>306505</td>\n",
       "      <td>0.001166</td>\n",
       "      <td>0.131937</td>\n",
       "      <td>0.062004</td>\n",
       "      <td>0.113356</td>\n",
       "      <td>0.254009</td>\n",
       "      <td>0.686000</td>\n",
       "      <td>0.098901</td>\n",
       "      <td>0.000000</td>\n",
       "      <td>...</td>\n",
       "      <td>0.097375</td>\n",
       "      <td>0.142600</td>\n",
       "      <td>0.020987</td>\n",
       "      <td>-0.070686</td>\n",
       "      <td>0.021521</td>\n",
       "      <td>-0.108220</td>\n",
       "      <td>-0.073644</td>\n",
       "      <td>0.002924</td>\n",
       "      <td>0.012265</td>\n",
       "      <td>1</td>\n",
       "    </tr>\n",
       "    <tr>\n",
       "      <th>4</th>\n",
       "      <td>114405</td>\n",
       "      <td>232670</td>\n",
       "      <td>0.000935</td>\n",
       "      <td>0.056180</td>\n",
       "      <td>0.046350</td>\n",
       "      <td>0.057239</td>\n",
       "      <td>0.129705</td>\n",
       "      <td>0.880512</td>\n",
       "      <td>0.098901</td>\n",
       "      <td>0.000000</td>\n",
       "      <td>...</td>\n",
       "      <td>-0.005728</td>\n",
       "      <td>-0.017172</td>\n",
       "      <td>0.126068</td>\n",
       "      <td>0.008221</td>\n",
       "      <td>-0.038237</td>\n",
       "      <td>0.020835</td>\n",
       "      <td>-0.017789</td>\n",
       "      <td>-0.022715</td>\n",
       "      <td>-0.063745</td>\n",
       "      <td>0</td>\n",
       "    </tr>\n",
       "  </tbody>\n",
       "</table>\n",
       "<p>5 rows × 212 columns</p>\n",
       "</div>"
      ],
      "text/plain": [
       "   Unnamed: 0  SK_ID_CURR  AMT_INCOME_TOTAL  AMT_CREDIT  AMT_ANNUITY  \\\n",
       "0      103812      220485          0.000742    0.046067     0.039663   \n",
       "1       33350      138637          0.000473    0.197348     0.137206   \n",
       "2      118785      237745          0.000550    0.089888     0.072675   \n",
       "3      178204      306505          0.001166    0.131937     0.062004   \n",
       "4      114405      232670          0.000935    0.056180     0.046350   \n",
       "\n",
       "   AMT_GOODS_PRICE  REGION_POPULATION_RELATIVE  DAYS_REGISTRATION  \\\n",
       "0         0.047138                    0.197042           0.945687   \n",
       "1         0.158249                    0.276330           0.944147   \n",
       "2         0.090909                    0.260475           0.818337   \n",
       "3         0.113356                    0.254009           0.686000   \n",
       "4         0.057239                    0.129705           0.880512   \n",
       "\n",
       "   OWN_CAR_AGE  CNT_FAM_MEMBERS   ...       pca-2     pca-3     pca-4  \\\n",
       "0     0.098901         0.000000   ...    0.107450 -0.099475 -0.146964   \n",
       "1     0.714286         0.052632   ...   -0.227368 -0.033126 -0.154565   \n",
       "2     0.032967         0.105263   ...    0.022146  0.511970  0.058970   \n",
       "3     0.098901         0.000000   ...    0.097375  0.142600  0.020987   \n",
       "4     0.098901         0.000000   ...   -0.005728 -0.017172  0.126068   \n",
       "\n",
       "      pca-5     pca-6     pca-7     pca-8     pca-9    pca-10  TARGET  \n",
       "0  0.188104  0.035622 -0.052144 -0.085002 -0.039655 -0.094613       0  \n",
       "1 -0.073216 -0.097993  0.058892 -0.016059  0.013575  0.026204       0  \n",
       "2  0.710577 -0.137946  0.446751  0.154910  0.201776  0.561764       0  \n",
       "3 -0.070686  0.021521 -0.108220 -0.073644  0.002924  0.012265       1  \n",
       "4  0.008221 -0.038237  0.020835 -0.017789 -0.022715 -0.063745       0  \n",
       "\n",
       "[5 rows x 212 columns]"
      ]
     },
     "execution_count": 6,
     "metadata": {},
     "output_type": "execute_result"
    }
   ],
   "source": [
    "preproccessed_test_df.head()"
   ]
  },
  {
   "cell_type": "code",
   "execution_count": 7,
   "metadata": {},
   "outputs": [],
   "source": [
    "X_train_df = preproccessed_train_df.drop(columns=[\"Unnamed: 0\", \"SK_ID_CURR\", \"TARGET\"])\n",
    "X_test_df = preproccessed_test_df.drop(columns=[\"Unnamed: 0\", \"SK_ID_CURR\", \"TARGET\"])"
   ]
  },
  {
   "cell_type": "code",
   "execution_count": 8,
   "metadata": {},
   "outputs": [
    {
     "data": {
      "text/html": [
       "<div>\n",
       "<style scoped>\n",
       "    .dataframe tbody tr th:only-of-type {\n",
       "        vertical-align: middle;\n",
       "    }\n",
       "\n",
       "    .dataframe tbody tr th {\n",
       "        vertical-align: top;\n",
       "    }\n",
       "\n",
       "    .dataframe thead th {\n",
       "        text-align: right;\n",
       "    }\n",
       "</style>\n",
       "<table border=\"1\" class=\"dataframe\">\n",
       "  <thead>\n",
       "    <tr style=\"text-align: right;\">\n",
       "      <th></th>\n",
       "      <th>AMT_INCOME_TOTAL</th>\n",
       "      <th>AMT_CREDIT</th>\n",
       "      <th>AMT_ANNUITY</th>\n",
       "      <th>AMT_GOODS_PRICE</th>\n",
       "      <th>REGION_POPULATION_RELATIVE</th>\n",
       "      <th>DAYS_REGISTRATION</th>\n",
       "      <th>OWN_CAR_AGE</th>\n",
       "      <th>CNT_FAM_MEMBERS</th>\n",
       "      <th>EXT_SOURCE_1</th>\n",
       "      <th>EXT_SOURCE_2</th>\n",
       "      <th>...</th>\n",
       "      <th>pca-1</th>\n",
       "      <th>pca-2</th>\n",
       "      <th>pca-3</th>\n",
       "      <th>pca-4</th>\n",
       "      <th>pca-5</th>\n",
       "      <th>pca-6</th>\n",
       "      <th>pca-7</th>\n",
       "      <th>pca-8</th>\n",
       "      <th>pca-9</th>\n",
       "      <th>pca-10</th>\n",
       "    </tr>\n",
       "  </thead>\n",
       "  <tbody>\n",
       "    <tr>\n",
       "      <th>0</th>\n",
       "      <td>0.000742</td>\n",
       "      <td>0.046067</td>\n",
       "      <td>0.039663</td>\n",
       "      <td>0.047138</td>\n",
       "      <td>0.197042</td>\n",
       "      <td>0.945687</td>\n",
       "      <td>0.098901</td>\n",
       "      <td>0.000000</td>\n",
       "      <td>0.518318</td>\n",
       "      <td>0.489246</td>\n",
       "      <td>...</td>\n",
       "      <td>-0.317886</td>\n",
       "      <td>0.107450</td>\n",
       "      <td>-0.099475</td>\n",
       "      <td>-0.146964</td>\n",
       "      <td>0.188104</td>\n",
       "      <td>0.035622</td>\n",
       "      <td>-0.052144</td>\n",
       "      <td>-0.085002</td>\n",
       "      <td>-0.039655</td>\n",
       "      <td>-0.094613</td>\n",
       "    </tr>\n",
       "    <tr>\n",
       "      <th>1</th>\n",
       "      <td>0.000473</td>\n",
       "      <td>0.197348</td>\n",
       "      <td>0.137206</td>\n",
       "      <td>0.158249</td>\n",
       "      <td>0.276330</td>\n",
       "      <td>0.944147</td>\n",
       "      <td>0.714286</td>\n",
       "      <td>0.052632</td>\n",
       "      <td>0.738676</td>\n",
       "      <td>0.302528</td>\n",
       "      <td>...</td>\n",
       "      <td>0.327519</td>\n",
       "      <td>-0.227368</td>\n",
       "      <td>-0.033126</td>\n",
       "      <td>-0.154565</td>\n",
       "      <td>-0.073216</td>\n",
       "      <td>-0.097993</td>\n",
       "      <td>0.058892</td>\n",
       "      <td>-0.016059</td>\n",
       "      <td>0.013575</td>\n",
       "      <td>0.026204</td>\n",
       "    </tr>\n",
       "    <tr>\n",
       "      <th>2</th>\n",
       "      <td>0.000550</td>\n",
       "      <td>0.089888</td>\n",
       "      <td>0.072675</td>\n",
       "      <td>0.090909</td>\n",
       "      <td>0.260475</td>\n",
       "      <td>0.818337</td>\n",
       "      <td>0.032967</td>\n",
       "      <td>0.105263</td>\n",
       "      <td>0.518318</td>\n",
       "      <td>0.766339</td>\n",
       "      <td>...</td>\n",
       "      <td>0.363630</td>\n",
       "      <td>0.022146</td>\n",
       "      <td>0.511970</td>\n",
       "      <td>0.058970</td>\n",
       "      <td>0.710577</td>\n",
       "      <td>-0.137946</td>\n",
       "      <td>0.446751</td>\n",
       "      <td>0.154910</td>\n",
       "      <td>0.201776</td>\n",
       "      <td>0.561764</td>\n",
       "    </tr>\n",
       "    <tr>\n",
       "      <th>3</th>\n",
       "      <td>0.001166</td>\n",
       "      <td>0.131937</td>\n",
       "      <td>0.062004</td>\n",
       "      <td>0.113356</td>\n",
       "      <td>0.254009</td>\n",
       "      <td>0.686000</td>\n",
       "      <td>0.098901</td>\n",
       "      <td>0.000000</td>\n",
       "      <td>0.723398</td>\n",
       "      <td>0.745044</td>\n",
       "      <td>...</td>\n",
       "      <td>-0.107483</td>\n",
       "      <td>0.097375</td>\n",
       "      <td>0.142600</td>\n",
       "      <td>0.020987</td>\n",
       "      <td>-0.070686</td>\n",
       "      <td>0.021521</td>\n",
       "      <td>-0.108220</td>\n",
       "      <td>-0.073644</td>\n",
       "      <td>0.002924</td>\n",
       "      <td>0.012265</td>\n",
       "    </tr>\n",
       "    <tr>\n",
       "      <th>4</th>\n",
       "      <td>0.000935</td>\n",
       "      <td>0.056180</td>\n",
       "      <td>0.046350</td>\n",
       "      <td>0.057239</td>\n",
       "      <td>0.129705</td>\n",
       "      <td>0.880512</td>\n",
       "      <td>0.098901</td>\n",
       "      <td>0.000000</td>\n",
       "      <td>0.321969</td>\n",
       "      <td>0.301582</td>\n",
       "      <td>...</td>\n",
       "      <td>-0.380793</td>\n",
       "      <td>-0.005728</td>\n",
       "      <td>-0.017172</td>\n",
       "      <td>0.126068</td>\n",
       "      <td>0.008221</td>\n",
       "      <td>-0.038237</td>\n",
       "      <td>0.020835</td>\n",
       "      <td>-0.017789</td>\n",
       "      <td>-0.022715</td>\n",
       "      <td>-0.063745</td>\n",
       "    </tr>\n",
       "  </tbody>\n",
       "</table>\n",
       "<p>5 rows × 209 columns</p>\n",
       "</div>"
      ],
      "text/plain": [
       "   AMT_INCOME_TOTAL  AMT_CREDIT  AMT_ANNUITY  AMT_GOODS_PRICE  \\\n",
       "0          0.000742    0.046067     0.039663         0.047138   \n",
       "1          0.000473    0.197348     0.137206         0.158249   \n",
       "2          0.000550    0.089888     0.072675         0.090909   \n",
       "3          0.001166    0.131937     0.062004         0.113356   \n",
       "4          0.000935    0.056180     0.046350         0.057239   \n",
       "\n",
       "   REGION_POPULATION_RELATIVE  DAYS_REGISTRATION  OWN_CAR_AGE  \\\n",
       "0                    0.197042           0.945687     0.098901   \n",
       "1                    0.276330           0.944147     0.714286   \n",
       "2                    0.260475           0.818337     0.032967   \n",
       "3                    0.254009           0.686000     0.098901   \n",
       "4                    0.129705           0.880512     0.098901   \n",
       "\n",
       "   CNT_FAM_MEMBERS  EXT_SOURCE_1  EXT_SOURCE_2    ...        pca-1     pca-2  \\\n",
       "0         0.000000      0.518318      0.489246    ...    -0.317886  0.107450   \n",
       "1         0.052632      0.738676      0.302528    ...     0.327519 -0.227368   \n",
       "2         0.105263      0.518318      0.766339    ...     0.363630  0.022146   \n",
       "3         0.000000      0.723398      0.745044    ...    -0.107483  0.097375   \n",
       "4         0.000000      0.321969      0.301582    ...    -0.380793 -0.005728   \n",
       "\n",
       "      pca-3     pca-4     pca-5     pca-6     pca-7     pca-8     pca-9  \\\n",
       "0 -0.099475 -0.146964  0.188104  0.035622 -0.052144 -0.085002 -0.039655   \n",
       "1 -0.033126 -0.154565 -0.073216 -0.097993  0.058892 -0.016059  0.013575   \n",
       "2  0.511970  0.058970  0.710577 -0.137946  0.446751  0.154910  0.201776   \n",
       "3  0.142600  0.020987 -0.070686  0.021521 -0.108220 -0.073644  0.002924   \n",
       "4 -0.017172  0.126068  0.008221 -0.038237  0.020835 -0.017789 -0.022715   \n",
       "\n",
       "     pca-10  \n",
       "0 -0.094613  \n",
       "1  0.026204  \n",
       "2  0.561764  \n",
       "3  0.012265  \n",
       "4 -0.063745  \n",
       "\n",
       "[5 rows x 209 columns]"
      ]
     },
     "execution_count": 8,
     "metadata": {},
     "output_type": "execute_result"
    }
   ],
   "source": [
    "X_train_df.head()\n",
    "X_test_df.head()"
   ]
  },
  {
   "cell_type": "code",
   "execution_count": 9,
   "metadata": {},
   "outputs": [],
   "source": [
    "Y_train_df = preproccessed_train_df[[\"TARGET\"]]\n",
    "Y_test_df = preproccessed_test_df[[\"TARGET\"]]"
   ]
  },
  {
   "cell_type": "code",
   "execution_count": 10,
   "metadata": {},
   "outputs": [
    {
     "data": {
      "text/html": [
       "<div>\n",
       "<style scoped>\n",
       "    .dataframe tbody tr th:only-of-type {\n",
       "        vertical-align: middle;\n",
       "    }\n",
       "\n",
       "    .dataframe tbody tr th {\n",
       "        vertical-align: top;\n",
       "    }\n",
       "\n",
       "    .dataframe thead th {\n",
       "        text-align: right;\n",
       "    }\n",
       "</style>\n",
       "<table border=\"1\" class=\"dataframe\">\n",
       "  <thead>\n",
       "    <tr style=\"text-align: right;\">\n",
       "      <th></th>\n",
       "      <th>TARGET</th>\n",
       "    </tr>\n",
       "  </thead>\n",
       "  <tbody>\n",
       "    <tr>\n",
       "      <th>0</th>\n",
       "      <td>0</td>\n",
       "    </tr>\n",
       "    <tr>\n",
       "      <th>1</th>\n",
       "      <td>0</td>\n",
       "    </tr>\n",
       "    <tr>\n",
       "      <th>2</th>\n",
       "      <td>0</td>\n",
       "    </tr>\n",
       "    <tr>\n",
       "      <th>3</th>\n",
       "      <td>1</td>\n",
       "    </tr>\n",
       "    <tr>\n",
       "      <th>4</th>\n",
       "      <td>0</td>\n",
       "    </tr>\n",
       "  </tbody>\n",
       "</table>\n",
       "</div>"
      ],
      "text/plain": [
       "   TARGET\n",
       "0       0\n",
       "1       0\n",
       "2       0\n",
       "3       1\n",
       "4       0"
      ]
     },
     "execution_count": 10,
     "metadata": {},
     "output_type": "execute_result"
    }
   ],
   "source": [
    "Y_train_df.head()\n",
    "Y_test_df.head()"
   ]
  },
  {
   "cell_type": "code",
   "execution_count": 11,
   "metadata": {},
   "outputs": [
    {
     "name": "stdout",
     "output_type": "stream",
     "text": [
      "(276759, 1)\n",
      "(276759, 209)\n"
     ]
    }
   ],
   "source": [
    "print(Y_train_df.shape)\n",
    "print(X_train_df.shape)"
   ]
  },
  {
   "cell_type": "code",
   "execution_count": 12,
   "metadata": {},
   "outputs": [
    {
     "data": {
      "text/plain": [
       "LGBMClassifier(boosting_type='gbdt', class_weight=None, colsample_bytree=1.0,\n",
       "        importance_type='split', learning_rate=0.1, max_depth=-1,\n",
       "        min_child_samples=20, min_child_weight=0.001, min_split_gain=0.0,\n",
       "        n_estimators=100, n_jobs=-1, num_leaves=31, objective=None,\n",
       "        random_state=None, reg_alpha=0.0, reg_lambda=0.0, silent=True,\n",
       "        subsample=1.0, subsample_for_bin=200000, subsample_freq=0)"
      ]
     },
     "execution_count": 12,
     "metadata": {},
     "output_type": "execute_result"
    }
   ],
   "source": [
    "model = lgb.LGBMClassifier()\n",
    "model.fit(X_train_df, Y_train_df)"
   ]
  },
  {
   "cell_type": "code",
   "execution_count": 13,
   "metadata": {},
   "outputs": [],
   "source": [
    "y_pred = model.predict_proba(X_test_df)"
   ]
  },
  {
   "cell_type": "code",
   "execution_count": 14,
   "metadata": {},
   "outputs": [
    {
     "data": {
      "text/plain": [
       "array([0.24786863, 0.04279469, 0.03166757, ..., 0.05882264, 0.0466956 ,\n",
       "       0.05165279])"
      ]
     },
     "execution_count": 14,
     "metadata": {},
     "output_type": "execute_result"
    }
   ],
   "source": [
    "y_pred_df = y_pred[:, 1]\n",
    "y_pred_df"
   ]
  },
  {
   "cell_type": "code",
   "execution_count": 15,
   "metadata": {},
   "outputs": [
    {
     "name": "stdout",
     "output_type": "stream",
     "text": [
      "Light Gradient Boosting Machine Base Case  log_loss: 0.243\n",
      "Light Gradient Boosting Machine Base Case auc: 0.759\n"
     ]
    }
   ],
   "source": [
    "[fpr, tpr, thr] = roc_curve(Y_test_df, y_pred_df)\n",
    "print(\"Light Gradient Boosting Machine Base Case  log_loss: %2.3f\" % log_loss(Y_test_df, y_pred_df))\n",
    "print(\"Light Gradient Boosting Machine Base Case auc: %2.3f\" % auc(fpr, tpr))"
   ]
  },
  {
   "cell_type": "code",
   "execution_count": 16,
   "metadata": {},
   "outputs": [],
   "source": [
    "def plot_roc_curve(false_positive, true_positive):\n",
    "    plt.step(false_positive, true_positive, alpha=0.3, color='green')\n",
    "    plt.fill_between(false_positive, true_positive, alpha=0.2, color='green')\n",
    "    plt.xlabel('False Positive Rate')\n",
    "    plt.ylabel('True Positive Rate')\n",
    "    plt.ylim([0.0, 1.05])\n",
    "    plt.xlim([0.0, 1.0])\n",
    "    plt.title('ROC-AUC curve: AUC={0:0.3f}'.format(auc(fpr, tpr)))"
   ]
  },
  {
   "cell_type": "code",
   "execution_count": 17,
   "metadata": {},
   "outputs": [
    {
     "data": {
      "image/png": "[encoded data removed]",
      "text/plain": [
       "<Figure size 432x288 with 1 Axes>"
      ]
     },
     "metadata": {
      "needs_background": "light"
     },
     "output_type": "display_data"
    }
   ],
   "source": [
    "plot_roc_curve(fpr,tpr)"
   ]
  },
  {
   "cell_type": "code",
   "execution_count": 18,
   "metadata": {},
   "outputs": [],
   "source": [
    "def lgbm(maxDepth, nEstimator, learningRate):\n",
    "    lgbm_model = lgb.LGBMClassifier(max_depth=maxDepth, n_estimators=nEstimator, learning_rate= learningRate )\n",
    "    lgbm_model.fit(X_train_df, Y_train_df)\n",
    "    y_pred = lgbm_model.predict_proba(X_test_df)\n",
    "    y_pred_df = y_pred[:, 1]\n",
    "    [fpr, tpr, thr] = roc_curve(Y_test_df, y_pred_df)\n",
    "    #print(\"Light Gradient Boosting Machine Base Case  log_loss: %2.3f\" % log_loss(Y_test_df, y_pred_df))\n",
    "    print(\"Light Gradient Boosting Machine with maxDepth: {}, nEstimator: {}, learningRate: {} baseline log_loss: %2.3f\".format(maxDepth, nEstimator, learningRate) % log_loss(Y_test_df, y_pred_df))\n",
    "    print(\"Light Gradient Boosting Machine Base Case auc: %2.3f\" % auc(fpr, tpr))\n",
    "    return auc(fpr, tpr)"
   ]
  },
  {
   "cell_type": "code",
   "execution_count": 19,
   "metadata": {},
   "outputs": [],
   "source": [
    "maxDepth = [0, 5, 10]"
   ]
  },
  {
   "cell_type": "code",
   "execution_count": 20,
   "metadata": {},
   "outputs": [],
   "source": [
    "nEstimator = [400, 1000, 2000]"
   ]
  },
  {
   "cell_type": "code",
   "execution_count": 21,
   "metadata": {},
   "outputs": [],
   "source": [
    "learningRate = [0.03, 0.05, 0.07]"
   ]
  },
  {
   "cell_type": "code",
   "execution_count": 22,
   "metadata": {},
   "outputs": [
    {
     "name": "stdout",
     "output_type": "stream",
     "text": [
      "Light Gradient Boosting Machine with maxDepth: 0, nEstimator: 400, learningRate: 0.03 baseline log_loss: 0.243\n",
      "Light Gradient Boosting Machine Base Case auc: 0.761\n",
      "Light Gradient Boosting Machine with maxDepth: 0, nEstimator: 400, learningRate: 0.05 baseline log_loss: 0.243\n",
      "Light Gradient Boosting Machine Base Case auc: 0.761\n",
      "Light Gradient Boosting Machine with maxDepth: 0, nEstimator: 400, learningRate: 0.07 baseline log_loss: 0.244\n",
      "Light Gradient Boosting Machine Base Case auc: 0.758\n",
      "Light Gradient Boosting Machine with maxDepth: 0, nEstimator: 1000, learningRate: 0.03 baseline log_loss: 0.243\n",
      "Light Gradient Boosting Machine Base Case auc: 0.761\n",
      "Light Gradient Boosting Machine with maxDepth: 0, nEstimator: 1000, learningRate: 0.05 baseline log_loss: 0.243\n",
      "Light Gradient Boosting Machine Base Case auc: 0.760\n",
      "Light Gradient Boosting Machine with maxDepth: 0, nEstimator: 1000, learningRate: 0.07 baseline log_loss: 0.244\n",
      "Light Gradient Boosting Machine Base Case auc: 0.759\n",
      "Light Gradient Boosting Machine with maxDepth: 0, nEstimator: 2000, learningRate: 0.03 baseline log_loss: 0.243\n",
      "Light Gradient Boosting Machine Base Case auc: 0.761\n",
      "Light Gradient Boosting Machine with maxDepth: 0, nEstimator: 2000, learningRate: 0.05 baseline log_loss: 0.244\n",
      "Light Gradient Boosting Machine Base Case auc: 0.759\n",
      "Light Gradient Boosting Machine with maxDepth: 0, nEstimator: 2000, learningRate: 0.07 baseline log_loss: 0.247\n",
      "Light Gradient Boosting Machine Base Case auc: 0.755\n",
      "Light Gradient Boosting Machine with maxDepth: 5, nEstimator: 400, learningRate: 0.03 baseline log_loss: 0.243\n",
      "Light Gradient Boosting Machine Base Case auc: 0.760\n",
      "Light Gradient Boosting Machine with maxDepth: 5, nEstimator: 400, learningRate: 0.05 baseline log_loss: 0.242\n",
      "Light Gradient Boosting Machine Base Case auc: 0.762\n",
      "Light Gradient Boosting Machine with maxDepth: 5, nEstimator: 400, learningRate: 0.07 baseline log_loss: 0.242\n",
      "Light Gradient Boosting Machine Base Case auc: 0.762\n",
      "Light Gradient Boosting Machine with maxDepth: 5, nEstimator: 1000, learningRate: 0.03 baseline log_loss: 0.242\n",
      "Light Gradient Boosting Machine Base Case auc: 0.763\n",
      "Light Gradient Boosting Machine with maxDepth: 5, nEstimator: 1000, learningRate: 0.05 baseline log_loss: 0.242\n",
      "Light Gradient Boosting Machine Base Case auc: 0.762\n",
      "Light Gradient Boosting Machine with maxDepth: 5, nEstimator: 1000, learningRate: 0.07 baseline log_loss: 0.243\n",
      "Light Gradient Boosting Machine Base Case auc: 0.760\n",
      "Light Gradient Boosting Machine with maxDepth: 5, nEstimator: 2000, learningRate: 0.03 baseline log_loss: 0.242\n",
      "Light Gradient Boosting Machine Base Case auc: 0.762\n",
      "Light Gradient Boosting Machine with maxDepth: 5, nEstimator: 2000, learningRate: 0.05 baseline log_loss: 0.244\n",
      "Light Gradient Boosting Machine Base Case auc: 0.759\n",
      "Light Gradient Boosting Machine with maxDepth: 5, nEstimator: 2000, learningRate: 0.07 baseline log_loss: 0.246\n",
      "Light Gradient Boosting Machine Base Case auc: 0.756\n",
      "Light Gradient Boosting Machine with maxDepth: 10, nEstimator: 400, learningRate: 0.03 baseline log_loss: 0.243\n",
      "Light Gradient Boosting Machine Base Case auc: 0.762\n",
      "Light Gradient Boosting Machine with maxDepth: 10, nEstimator: 400, learningRate: 0.05 baseline log_loss: 0.243\n",
      "Light Gradient Boosting Machine Base Case auc: 0.760\n",
      "Light Gradient Boosting Machine with maxDepth: 10, nEstimator: 400, learningRate: 0.07 baseline log_loss: 0.243\n",
      "Light Gradient Boosting Machine Base Case auc: 0.760\n",
      "Light Gradient Boosting Machine with maxDepth: 10, nEstimator: 1000, learningRate: 0.03 baseline log_loss: 0.243\n",
      "Light Gradient Boosting Machine Base Case auc: 0.762\n",
      "Light Gradient Boosting Machine with maxDepth: 10, nEstimator: 1000, learningRate: 0.05 baseline log_loss: 0.243\n",
      "Light Gradient Boosting Machine Base Case auc: 0.760\n",
      "Light Gradient Boosting Machine with maxDepth: 10, nEstimator: 1000, learningRate: 0.07 baseline log_loss: 0.244\n",
      "Light Gradient Boosting Machine Base Case auc: 0.758\n",
      "Light Gradient Boosting Machine with maxDepth: 10, nEstimator: 2000, learningRate: 0.03 baseline log_loss: 0.243\n",
      "Light Gradient Boosting Machine Base Case auc: 0.761\n",
      "Light Gradient Boosting Machine with maxDepth: 10, nEstimator: 2000, learningRate: 0.05 baseline log_loss: 0.244\n",
      "Light Gradient Boosting Machine Base Case auc: 0.758\n",
      "Light Gradient Boosting Machine with maxDepth: 10, nEstimator: 2000, learningRate: 0.07 baseline log_loss: 0.246\n",
      "Light Gradient Boosting Machine Base Case auc: 0.755\n"
     ]
    }
   ],
   "source": [
    "area_under_curve = []\n",
    "params = []\n",
    "for depth in maxDepth:\n",
    "    for estimator in nEstimator:\n",
    "        for lRate in learningRate:\n",
    "            params.append(\"max_depth: {}, n_estimator: {}, learning_rate: {}\".format(depth, estimator, lRate))\n",
    "            area_under_curve.append(lgbm(maxDepth=depth, nEstimator=estimator, learningRate=lRate))"
   ]
  },
  {
   "cell_type": "code",
   "execution_count": 24,
   "metadata": {},
   "outputs": [
    {
     "data": {
      "image/png": "[encoded data removed]",
      "text/plain": [
       "<Figure size 2160x720 with 1 Axes>"
      ]
     },
     "metadata": {
      "needs_background": "light"
     },
     "output_type": "display_data"
    }
   ],
   "source": [
    "plt.figure(figsize=(30,10))\n",
    "plt.plot(params, area_under_curve, linewidth=5)\n",
    "plt.xticks(rotation=90)\n",
    "ax = plt.axes()\n",
    "plt.axhline(linewidth=3, linestyle =\"--\", color = \"red\" , y=max(area_under_curve))\n",
    "ax.xaxis.set_major_locator(ticker.MultipleLocator(1))\n",
    "plt.show()"
   ]
  },
  {
   "cell_type": "code",
   "execution_count": 25,
   "metadata": {},
   "outputs": [
    {
     "name": "stdout",
     "output_type": "stream",
     "text": [
      "Best AUC ROC: 0.763\n"
     ]
    }
   ],
   "source": [
    "print (\"Best AUC ROC: %0.3f\" %max(area_under_curve))"
   ]
  },
  {
   "cell_type": "code",
   "execution_count": null,
   "metadata": {},
   "outputs": [],
   "source": []
  }
 ],
 "metadata": {
  "kernelspec": {
   "display_name": "Python 3",
   "language": "python",
   "name": "python3"
  },
  "language_info": {
   "codemirror_mode": {
    "name": "ipython",
    "version": 3
   },
   "file_extension": ".py",
   "mimetype": "text/x-python",
   "name": "python",
   "nbconvert_exporter": "python",
   "pygments_lexer": "ipython3",
   "version": "3.7.1"
  }
 },
 "nbformat": 4,
 "nbformat_minor": 2
}
