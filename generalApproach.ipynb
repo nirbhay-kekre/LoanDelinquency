{
 "cells": [
  {
   "cell_type": "markdown",
   "metadata": {},
   "source": [
    "<b>Load the preprocessed files</b>"
   ]
  },
  {
   "cell_type": "code",
   "execution_count": 1,
   "metadata": {},
   "outputs": [],
   "source": [
    "#Imports\n",
    "import pandas as pd\n",
    "import numpy as np\n",
    "import os\n",
    "from pprint import pprint\n",
    "import matplotlib.pyplot as plt\n",
    "import seaborn as sns\n",
    "import warnings\n",
    "warnings.filterwarnings(\"ignore\")\n",
    "import time\n",
    "\n",
    "#skitlearn packages\n",
    "from sklearn.preprocessing import MinMaxScaler\n",
    "from sklearn.preprocessing import Imputer\n",
    "from sklearn.preprocessing import LabelEncoder\n",
    "from sklearn.model_selection import train_test_split\n",
    "from sklearn.model_selection import KFold\n",
    "from sklearn.model_selection import cross_val_score\n",
    "from sklearn.metrics import classification_report\n",
    "from sklearn.metrics import confusion_matrix\n",
    "from sklearn.metrics import accuracy_score\n",
    "from sklearn.metrics import precision_score\n",
    "from sklearn.metrics import recall_score\n",
    "from sklearn.pipeline import Pipeline\n",
    "from sklearn.linear_model import LogisticRegression\n",
    "from sklearn.tree import DecisionTreeClassifier\n",
    "from sklearn.neighbors import KNeighborsClassifier\n",
    "from sklearn.naive_bayes import GaussianNB\n",
    "from sklearn.svm import SVC\n",
    "from sklearn.ensemble import RandomForestClassifier"
   ]
  },
  {
   "cell_type": "code",
   "execution_count": 17,
   "metadata": {},
   "outputs": [],
   "source": [
    "X_train = np.loadtxt('./data/preprocessed/X_train.csv', delimiter=',')\n",
    "X_test = np.loadtxt('./data/preprocessed/X_test.csv', delimiter=',')\n",
    "y_train = np.loadtxt('./data/preprocessed/y_train.csv', delimiter=',')"
   ]
  },
  {
   "cell_type": "code",
   "execution_count": 18,
   "metadata": {},
   "outputs": [
    {
     "name": "stdout",
     "output_type": "stream",
     "text": [
      "LR:-->   auroc: 0.6221113420450624  Training time: 0.3977780699729919\n",
      "KNN:-->   auroc: 0.5526574419829805  Training time: 2.5993221441904706\n",
      "DTC:-->   auroc: 0.5378290132942118  Training time: 1.9763454357783\n",
      "GNB:-->   auroc: 0.6031644307691507  Training time: 0.09399228890736898\n",
      "RF:-->   auroc: 0.6284005861229677  Training time: 0.7792946418126424\n"
     ]
    }
   ],
   "source": [
    "num_folds = 5\n",
    "seed = 1\n",
    "scoring = 'roc_auc'\n",
    "\n",
    "predictors = []\n",
    "\n",
    "predictors.append(('LR', LogisticRegression()))\n",
    "predictors.append(('KNN', KNeighborsClassifier()))\n",
    "predictors.append(('DTC', DecisionTreeClassifier()))\n",
    "predictors.append(('GNB', GaussianNB()))\n",
    "predictors.append(('RF', RandomForestClassifier()))\n",
    "\n",
    "results = []\n",
    "names = []\n",
    "\n",
    "for name, predictor in predictors:\n",
    "    start = time.time()\n",
    "    \n",
    "    kfold = KFold(n_splits=num_folds, random_state=seed)\n",
    "    cv_results = cross_val_score(predictor, X_train, y_train, cv=kfold, scoring=scoring)\n",
    "    results.append(cv_results)\n",
    "    names.append(name)\n",
    "    \n",
    "    end = time.time()\n",
    "    runtime = (end-start)/60\n",
    "    print(f'{name}:-->   auroc: {cv_results.mean()}  Training time: {runtime}')"
   ]
  },
  {
   "cell_type": "code",
   "execution_count": null,
   "metadata": {},
   "outputs": [],
   "source": []
  }
 ],
 "metadata": {
  "kernelspec": {
   "display_name": "Python 3",
   "language": "python",
   "name": "python3"
  },
  "language_info": {
   "codemirror_mode": {
    "name": "ipython",
    "version": 3
   },
   "file_extension": ".py",
   "mimetype": "text/x-python",
   "name": "python",
   "nbconvert_exporter": "python",
   "pygments_lexer": "ipython3",
   "version": "3.7.1"
  }
 },
 "nbformat": 4,
 "nbformat_minor": 2
}
